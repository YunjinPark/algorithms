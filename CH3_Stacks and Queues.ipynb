{
 "cells": [
  {
   "cell_type": "markdown",
   "metadata": {},
   "source": [
    "## Q1 Trapping Rain Water * * * * * *\n",
    "[leetcode:42. Trapping Rain Water](https://leetcode.com/problems/trapping-rain-water/)<br>\n",
    "Given n non-negative integers representing an elevation map where the width of each bar is 1, compute how much water it is able to trap after raining. <br><br>\n",
    "The above elevation map is represented by array [0,1,0,2,1,0,1,3,2,1,2,1]. In this case, 6 units of rain water (blue section) are being trapped. Thanks Marcos for contributing this image!<br>\n",
    "\n",
    "Example:\n",
    "Input: [0,1,0,2,1,0,1,3,2,1,2,1]<br>\n",
    "Output: 6<br>\n"
   ]
  },
  {
   "cell_type": "code",
   "execution_count": 36,
   "metadata": {},
   "outputs": [],
   "source": [
    "class Solution:\n",
    "    def trap(self, height) :\n",
    "        '''\n",
    "        :type height: List[int]\n",
    "        :rtype: int\n",
    "        time: O(N)\n",
    "        space: O(N)\n",
    "        '''\n",
    "        lenHeight = len(height)\n",
    "        if lenHeight < 2: return 0\n",
    "        \n",
    "        leftMax, rightMax = height[:], height[:]\n",
    "        \n",
    "        for i in range(1, lenHeight):\n",
    "            leftMax[i] = [height[i], leftMax[i-1]][height[i] <= leftMax[i-1]]\n",
    "\n",
    "        for i in range(lenHeight - 2, -1, -1):\n",
    "            rightMax[i] = [height[i], rightMax[i+1]][height[i] <= rightMax[i+1]]\n",
    "        \n",
    "        result = 0 \n",
    "        for i in range(lenHeight):\n",
    "            result += min(leftMax[i], rightMax[i])-height[i]\n",
    "            \n",
    "        return result"
   ]
  },
  {
   "cell_type": "code",
   "execution_count": 37,
   "metadata": {},
   "outputs": [
    {
     "data": {
      "text/plain": [
       "6"
      ]
     },
     "execution_count": 37,
     "metadata": {},
     "output_type": "execute_result"
    }
   ],
   "source": [
    "test_list = [0,1,0,2,1,0,1,3,2,1,2,1]\n",
    "\n",
    "s = Solution()\n",
    "s.trap(test_list)"
   ]
  },
  {
   "cell_type": "markdown",
   "metadata": {},
   "source": [
    "## Q2 Valid Parentheses * *\n",
    "[leetcode:20. Valid Parentheses](https://leetcode.com/problems/valid-parentheses/)<br>\n",
    "Given a string containing just the characters '(', ')', '{', '}', '[' and ']', determine if the input string is valid.<br>\n",
    "<br>\n",
    "An input string is valid if:\n",
    "\n",
    "Open brackets must be closed by the same type of brackets.<br>\n",
    "Open brackets must be closed in the correct order.<br>\n",
    "Note that an empty string is also considered valid.<br>\n",
    "<br>\n",
    "__Example 1__:<br>\n",
    "Input: \"()\"<br>\n",
    "Output: true<br><br>\n",
    "__Example 2__:<br>\n",
    "Input: \"()[]{}\"<br>\n",
    "Output: true<br><br>\n",
    "__Example 3__:<br>\n",
    "Input: \"(]\"<br>\n",
    "Output: false<br><br>\n",
    "__Example 4:__<br>\n",
    "Input: \"([)]\"<br>\n",
    "Output: false<br><br>\n",
    "__Example 5:__<br>\n",
    "Input: \"{[]}\"<br>\n",
    "Output: true<br>"
   ]
  },
  {
   "cell_type": "code",
   "execution_count": 53,
   "metadata": {},
   "outputs": [],
   "source": [
    "class Solution:\n",
    "    def isValid(self, s):\n",
    "        '''\n",
    "        :type s: str\n",
    "        :rtype: bool\n",
    "        time: O(N) \n",
    "        space: O(N)\n",
    "        '''\n",
    "        d = {'(':')', '[':']', '{':'}'}\n",
    "        stack = []\n",
    "        for i in s:\n",
    "            if i in d:\n",
    "                stack.append(i)\n",
    "            else:\n",
    "                if stack == []: return False # 비어있는지 체크해줘야함!!!\n",
    "                tmp = stack.pop()\n",
    "                if d[tmp] != i:\n",
    "                    return False\n",
    "        if len(stack) == 0:\n",
    "            return True\n",
    "        else: return False"
   ]
  },
  {
   "cell_type": "code",
   "execution_count": 55,
   "metadata": {},
   "outputs": [
    {
     "data": {
      "text/plain": [
       "False"
      ]
     },
     "execution_count": 55,
     "metadata": {},
     "output_type": "execute_result"
    }
   ],
   "source": [
    "#testString = '()'    #output= True\n",
    "#testString = '({})[]'   #output= True\n",
    "testString = '({)}'   #output= False\n",
    "\n",
    "s = Solution()\n",
    "s.isValid(testString)"
   ]
  },
  {
   "cell_type": "markdown",
   "metadata": {},
   "source": [
    "## Q3. Odd Even Jump\n",
    "[leetcode:975. Odd Even Jump](https://leetcode.com/problems/odd-even-jump/)<br>\n",
    "You are given an integer array A.  From some starting index, you can make a series of jumps.  The (1st, 3rd, 5th, ...) jumps in the series are called odd numbered jumps, and the (2nd, 4th, 6th, ...) jumps in the series are called even numbered jumps.<br>\n",
    "<br>\n",
    "You may from index i jump forward to index j (with i < j) in the following way:\n",
    "<br><br>\n",
    "During odd numbered jumps (ie. jumps 1, 3, 5, ...), you jump to the index j such that A[i] <= A[j] and A[j] is the smallest possible value.  If there are multiple such indexes j, you can only jump to the smallest such index j.<br><br>\n",
    "During even numbered jumps (ie. jumps 2, 4, 6, ...), you jump to the index j such that A[i] >= A[j] and A[j] is the largest possible value.  If there are multiple such indexes j, you can only jump to the smallest such index j.\n",
    "(It may be the case that for some index i, there are no legal jumps.)<br><br>\n",
    "A starting index is good if, starting from that index, you can reach the end of the array (index A.length - 1) by jumping some number of times (possibly 0 or more than once.)\n",
    "<br>\n",
    "Return the number of good starting indexes."
   ]
  },
  {
   "cell_type": "code",
   "execution_count": null,
   "metadata": {},
   "outputs": [],
   "source": []
  },
  {
   "cell_type": "code",
   "execution_count": null,
   "metadata": {},
   "outputs": [],
   "source": []
  },
  {
   "cell_type": "markdown",
   "metadata": {},
   "source": [
    "## Q4. Basic Calculator * * * * * *\n",
    "[leetcode: 224. Basic Calculator](https://leetcode.com/problems/basic-calculator/) <br>\n",
    "Implement a basic calculator to evaluate a simple expression string.<br>\n",
    "\n",
    "The expression string may contain open ( and closing parentheses ), the plus + or minus sign -, non-negative integers and empty spaces .<br>\n",
    "<br>\n",
    "__Example 1:__\n",
    "<br>\n",
    "Input: \"1 + 1\"<br>\n",
    "Output: 2<br><br>\n",
    "__Example 2:__<br>\n",
    "Input: \" 2-1 + 2 \"<br>\n",
    "Output: 3<br><br>\n",
    "__Example 3:__<br>\n",
    "Input: \"(1+(4+5+2)-3)+(6+8)\"<br>\n",
    "Output: 23<br><br>\n",
    "Note:<br>\n",
    "You may assume that the given expression is always valid.<br>\n",
    "Do not use the eval built-in library function."
   ]
  },
  {
   "cell_type": "code",
   "execution_count": 47,
   "metadata": {},
   "outputs": [],
   "source": [
    "class Solution:\n",
    "    def calculate(self, s):\n",
    "        '''\n",
    "        :type s: str\n",
    "        :rtype: int\n",
    "        time: O(N) \n",
    "        space: O(N)\n",
    "        '''\n",
    "        lenS = len(s)\n",
    "        if lenS < 2: return s\n",
    "        stack = []\n",
    "        \n",
    "        for i in range(lenS-1, -1, -1):\n",
    "            #+, - 인 경우 stack에 추가 \n",
    "            if s[i] in {'+', '-', ')'}:\n",
    "                stack.append(s[i])\n",
    "                \n",
    "            # ) 인 경우 괄호 안을 계산 \n",
    "            elif s[i] == '(':\n",
    "                tmp, tmp_sign = 0, ''\n",
    "                while (stack[-1] != ')'): \n",
    "                    if stack[-1]== '(': return False \n",
    "                    tmp, tmp_sign = self.cal(tmp, tmp_sign, stack.pop())\n",
    "                if stack.pop() != ')': return False\n",
    "                stack.append(tmp)\n",
    "                \n",
    "            # 숫자일 경우 이전 문자가 숫자이면 합쳐서 stack에 추가, 아니면 그냥 추가 \n",
    "            elif s[i].isdecimal(): \n",
    "                tmp = ''\n",
    "                while(stack != [] and stack[-1].isdecimal()):\n",
    "                    tmp = stack.pop() + tmp\n",
    "                stack.append(s[i]+tmp)\n",
    "        tmp, tmp_sign = 0, ''\n",
    "        \n",
    "        while (stack): \n",
    "            tmp, tmp_sign = self.cal(tmp, tmp_sign, stack.pop())\n",
    "        return str(tmp)\n",
    "    \n",
    "    def cal(self, tmp, tmp_sign, p):\n",
    "        if p in {'+', '-'}:\n",
    "            tmp_sign = p\n",
    "        else: \n",
    "            if tmp_sign == '+':\n",
    "                tmp += int(p)\n",
    "            elif tmp_sign == '-':\n",
    "                tmp -= int(p)\n",
    "            else:\n",
    "                tmp = int(p)\n",
    "        return tmp, tmp_sign "
   ]
  },
  {
   "cell_type": "code",
   "execution_count": 48,
   "metadata": {},
   "outputs": [
    {
     "data": {
      "text/plain": [
       "'123999'"
      ]
     },
     "execution_count": 48,
     "metadata": {},
     "output_type": "execute_result"
    }
   ],
   "source": [
    "testString = \"1 + 1\"   #output: 2\n",
    "testString = \"123999\"   #output: 123999\n",
    "s = Solution()\n",
    "s.calculate(testString)"
   ]
  },
  {
   "cell_type": "markdown",
   "metadata": {},
   "source": [
    "## Q5. Decode String\n",
    "[leetcode:394. Decode String](https://leetcode.com/problems/decode-string/) <br>\n",
    "Given an encoded string, return its decoded string.<br>\n",
    "\n",
    "The encoding rule is: k[encoded_string], where the encoded_string inside the square brackets is being repeated exactly k times. Note that k is guaranteed to be a positive integer.<br>\n",
    "\n",
    "You may assume that the input string is always valid; No extra white spaces, square brackets are well-formed, etc.<br>\n",
    "\n",
    "Furthermore, you may assume that the original data does not contain any digits and that digits are only for those repeat numbers, k. For example, there won't be input like 3a or 2[4].<br><br>\n",
    "Examples:\n",
    "<br>\n",
    "s = \"3[a]2[bc]\", return \"aaabcbc\".<br>\n",
    "s = \"3[a2[c]]\", return \"accaccacc\".<br>\n",
    "s = \"2[abc]3[cd]ef\", return \"abcabccdcdcdef\".<br>"
   ]
  },
  {
   "cell_type": "code",
   "execution_count": 8,
   "metadata": {},
   "outputs": [
    {
     "ename": "AttributeError",
     "evalue": "'int' object has no attribute 'isdecimal'",
     "output_type": "error",
     "traceback": [
      "\u001b[1;31m---------------------------------------------------------------------------\u001b[0m",
      "\u001b[1;31mAttributeError\u001b[0m                            Traceback (most recent call last)",
      "\u001b[1;32m<ipython-input-8-c69c6dfcf8f3>\u001b[0m in \u001b[0;36m<module>\u001b[1;34m\u001b[0m\n\u001b[0;32m      1\u001b[0m \u001b[0mx\u001b[0m \u001b[1;33m=\u001b[0m \u001b[1;36m5\u001b[0m\u001b[1;33m\u001b[0m\u001b[0m\n\u001b[1;32m----> 2\u001b[1;33m \u001b[0mx\u001b[0m\u001b[1;33m.\u001b[0m\u001b[0misdecimal\u001b[0m\u001b[1;33m(\u001b[0m\u001b[1;33m)\u001b[0m\u001b[1;33m\u001b[0m\u001b[0m\n\u001b[0m",
      "\u001b[1;31mAttributeError\u001b[0m: 'int' object has no attribute 'isdecimal'"
     ]
    }
   ],
   "source": [
    "x = 5\n",
    "x.isdecimal()"
   ]
  },
  {
   "cell_type": "code",
   "execution_count": null,
   "metadata": {},
   "outputs": [],
   "source": []
  }
 ],
 "metadata": {
  "kernelspec": {
   "display_name": "Python 3",
   "language": "python",
   "name": "python3"
  },
  "language_info": {
   "codemirror_mode": {
    "name": "ipython",
    "version": 3
   },
   "file_extension": ".py",
   "mimetype": "text/x-python",
   "name": "python",
   "nbconvert_exporter": "python",
   "pygments_lexer": "ipython3",
   "version": "3.6.3"
  }
 },
 "nbformat": 4,
 "nbformat_minor": 2
}
