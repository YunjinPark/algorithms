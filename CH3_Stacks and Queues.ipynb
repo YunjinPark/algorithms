{
 "cells": [
  {
   "cell_type": "markdown",
   "metadata": {},
   "source": [
    "## Q1 Trapping Rain Water\n",
    "[leetcode:42. Trapping Rain Water](https://leetcode.com/problems/trapping-rain-water/)<br>\n",
    "Given n non-negative integers representing an elevation map where the width of each bar is 1, compute how much water it is able to trap after raining. <br><br>\n",
    "The above elevation map is represented by array [0,1,0,2,1,0,1,3,2,1,2,1]. In this case, 6 units of rain water (blue section) are being trapped. Thanks Marcos for contributing this image!<br>\n",
    "\n",
    "Example:\n",
    "Input: [0,1,0,2,1,0,1,3,2,1,2,1]<br>\n",
    "Output: 6<br>\n"
   ]
  },
  {
   "cell_type": "code",
   "execution_count": 36,
   "metadata": {},
   "outputs": [],
   "source": [
    "class Solution:\n",
    "    def trap(self, height) :\n",
    "        lenHeight = len(height)\n",
    "        if lenHeight < 2: return 0\n",
    "        \n",
    "        leftMax, rightMax = height[:], height[:]\n",
    "        \n",
    "        for i in range(1, lenHeight):\n",
    "            leftMax[i] = [height[i], leftMax[i-1]][height[i] <= leftMax[i-1]]\n",
    "\n",
    "        for i in range(lenHeight - 2, -1, -1):\n",
    "            rightMax[i] = [height[i], rightMax[i+1]][height[i] <= rightMax[i+1]]\n",
    "        \n",
    "        result = 0 \n",
    "        for i in range(lenHeight):\n",
    "            result += min(leftMax[i], rightMax[i])-height[i]\n",
    "            \n",
    "        return result\n",
    "                        \n",
    "                   \n",
    "            "
   ]
  },
  {
   "cell_type": "code",
   "execution_count": 37,
   "metadata": {},
   "outputs": [
    {
     "data": {
      "text/plain": [
       "6"
      ]
     },
     "execution_count": 37,
     "metadata": {},
     "output_type": "execute_result"
    }
   ],
   "source": [
    "test_list = [0,1,0,2,1,0,1,3,2,1,2,1]\n",
    "\n",
    "s = Solution()\n",
    "s.trap(test_list)"
   ]
  },
  {
   "cell_type": "code",
   "execution_count": null,
   "metadata": {},
   "outputs": [],
   "source": []
  },
  {
   "cell_type": "code",
   "execution_count": null,
   "metadata": {},
   "outputs": [],
   "source": []
  }
 ],
 "metadata": {
  "kernelspec": {
   "display_name": "Python 3",
   "language": "python",
   "name": "python3"
  },
  "language_info": {
   "codemirror_mode": {
    "name": "ipython",
    "version": 3
   },
   "file_extension": ".py",
   "mimetype": "text/x-python",
   "name": "python",
   "nbconvert_exporter": "python",
   "pygments_lexer": "ipython3",
   "version": "3.6.3"
  }
 },
 "nbformat": 4,
 "nbformat_minor": 2
}
