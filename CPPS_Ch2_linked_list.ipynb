{
 "cells": [
  {
   "cell_type": "markdown",
   "metadata": {},
   "source": [
    "# CH2. Linked List"
   ]
  },
  {
   "cell_type": "code",
   "execution_count": null,
   "metadata": {},
   "outputs": [],
   "source": [
    "class ListNode:\n",
    "    def __init__(self, x):\n",
    "        self.val = x\n",
    "        self.next = None\n",
    "        \n",
    "def createList(arr) -> ListNode:\n",
    "    if arr == None: return None\n",
    "    \n",
    "    n = len(arr)\n",
    "    \n",
    "    head = ListNode(arr[0])\n",
    "    ptr = head\n",
    "    \n",
    "    for i in range(1, n):\n",
    "        ptr.next = ListNode(arr[i])\n",
    "        ptr = ptr.next\n",
    "    return head\n",
    "\n",
    "def printList(head: ListNode)->list:\n",
    "    tmp = []\n",
    "    ptr = head\n",
    "    while(ptr):\n",
    "        tmp.append(ptr.val)\n",
    "        ptr = ptr.next\n",
    "    print(tmp)\n",
    "    \n"
   ]
  },
  {
   "cell_type": "markdown",
   "metadata": {},
   "source": [
    "## Q1. Remove Duplicates\n",
    "[leetcode: 82. Remove Duplicates from Sorted List II](https://leetcode.com/problems/remove-duplicates-from-sorted-list-ii/)\n",
    "Given a sorted linked list, delete all nodes that have duplicate numbers, leaving only distinct numbers from the original list.\n",
    "\n",
    "Example 1:\n",
    "\n",
    "Input: 1->2->3->3->4->4->5\n",
    "Output: 1->2->5\n",
    "\n",
    "\n",
    "Example 2:\n",
    "\n",
    "Input: 1->1->1->2->3\n",
    "Output: 2->3"
   ]
  },
  {
   "cell_type": "code",
   "execution_count": 6,
   "metadata": {},
   "outputs": [],
   "source": [
    "# Definition for singly-linked list.\n",
    "class ListNode:\n",
    "    def __init__(self, x):\n",
    "        self.val = x\n",
    "        self.next = None\n",
    "\n",
    "# Definition for doubly-linked list.\n",
    "class ListNode: \n",
    "    def __init__(self, nex=None, prev=None, data=None): \n",
    "        self.next = nex # reference to next node in DLL \n",
    "        self.prev = prev # reference to previous node in DLL \n",
    "        self.data = data \n",
    "        \n",
    "class ListNode:\n",
    "    def __init__(self, x):\n",
    "        self.val = x\n",
    "        self.next = None\n",
    "\n",
    "class Solution:\n",
    "    def deleteDuplicates(self, head: ListNode) -> ListNode:\n",
    "        dummy = Listnode(0)\n",
    "        dummy.next = head\n",
    "        \n",
    "        pre = dummy\n",
    "        cur = head \n",
    "        \n",
    "        while(cur & cur.next):\n",
    "            tmp = cur.val\n",
    "            while (cur.val == pre.val)\n",
    "        return 0"
   ]
  },
  {
   "cell_type": "markdown",
   "metadata": {},
   "source": [
    "## Q2. Kth element from Last\n",
    "\n",
    "[leetcode: 19. Remove Nth Node From End of List](https://leetcode.com/problems/remove-nth-node-from-end-of-list/description/)\n",
    "\n",
    "Given a linked list, remove the n-th node from the end of list and return its head.\n",
    "\n",
    "Example:\n",
    "Given linked list: 1->2->3->4->5, and n = 2.\n",
    "\n",
    "After removing the second node from the end, the linked list becomes 1->2->3->5.\n",
    "\n",
    "\n",
    "Note:Given n will always be valid.\n",
    "\n",
    "Follow up: Could you do this in one pass?"
   ]
  },
  {
   "cell_type": "code",
   "execution_count": 61,
   "metadata": {},
   "outputs": [],
   "source": [
    "# Definition for singly-linked list.\n",
    "class ListNode:\n",
    "    def __init__(self, x):\n",
    "        self.val = x\n",
    "        self.next = None\n",
    "\n",
    "class Solution:\n",
    "    def removeNthFromEnd(self, head: ListNode, n: int) -> ListNode:\n",
    "        '''\n",
    "        head의 길이(n)를 구함. \n",
    "        n-len(head)만큼 연결 리스트를 타고 들어감\n",
    "        Time Complexity  /  Space Complexity  : O(N)/O(1)\n",
    "        '''\n",
    "        lenHead = self.lenghtOfList(head)\n",
    "        tmp = head\n",
    "        if lenHead==n:\n",
    "            return head.next\n",
    "        for i in range(lenHead-n-1):\n",
    "            tmp = tmp.next\n",
    "        if tmp.next.next == None:\n",
    "            tmp.next = None\n",
    "        else:\n",
    "            tmp.next = tmp.next.next\n",
    "        return head\n",
    "    \n",
    "    def lenghtOfList(self, li: ListNode):\n",
    "        '''\n",
    "        연결 리스트의 길이를 구함.\n",
    "        Time Complexity  /  Space Complexity  : O(N)/O(1)\n",
    "        '''\n",
    "        tmp = 0\n",
    "        while(li):\n",
    "            tmp +=1\n",
    "            if li.next == None:\n",
    "                break\n",
    "            else:\n",
    "                li = li.next\n",
    "        return tmp"
   ]
  },
  {
   "cell_type": "code",
   "execution_count": 64,
   "metadata": {},
   "outputs": [
    {
     "name": "stdout",
     "output_type": "stream",
     "text": [
      "[]\n"
     ]
    }
   ],
   "source": [
    "#test_head, test_n  = [0, 1, 2, 3, 4], 2\n",
    "test_head, test_n  = [1], 1\n",
    "a = Solution()\n",
    "b = a.removeNthFromEnd(createList(test_head), test_n)\n",
    "printList(b)"
   ]
  },
  {
   "cell_type": "markdown",
   "metadata": {},
   "source": [
    "## Q3.Delete Middle Node\n",
    "Write a function to delete a node (except the tail) in a singly linked list, given only access to that node.\n",
    "\n",
    "__Example 1:__<br>\n",
    "Input: head = [4,5,1,9], node = 5<br>\n",
    "Output: [4,1,9]<br>\n",
    "Explanation: You are given the second node with value 5, the linked list should become 4 -> 1 -> 9 after calling your function.\n",
    "\n",
    "\n",
    "__Example 2:__<br>\n",
    "Input: head = [4,5,1,9], node = 1<br>\n",
    "Output: [4,5,9]<br>\n",
    "Explanation: You are given the third node with value 1, the linked list should become 4 -> 5 -> 9 after calling your function."
   ]
  },
  {
   "cell_type": "code",
   "execution_count": 6,
   "metadata": {},
   "outputs": [],
   "source": [
    "class Solution:\n",
    "    def deleteNode(self, node):\n",
    "        \"\"\"\n",
    "        :type node: ListNode\n",
    "        :rtype: void Do not return anything, modify node in-place instead.\n",
    "        \"\"\"\n",
    "        node.val = node.next.val\n",
    "        node.next = node.next.next"
   ]
  },
  {
   "cell_type": "markdown",
   "metadata": {},
   "source": [
    "## Q4. Partition List\n",
    "[leetcode:86. Partition List](https://leetcode.com/problems/partition-list/)\n",
    "\n",
    "Given a linked list and a value x, partition it such that all nodes less than x come before nodes greater than or equal to x.<br>\n",
    "You should preserve the original relative order of the nodes in each of the two partitions.\n",
    "<br><br>\n",
    "__Example:__<br>\n",
    "Input: head = 1->4->3->2->5->2, x = 3<br>\n",
    "Output: 1->2->2->4->3->5"
   ]
  },
  {
   "cell_type": "code",
   "execution_count": null,
   "metadata": {},
   "outputs": [],
   "source": [
    "class Solution:\n",
    "    def partition(self, head: ListNode, x: int) -> ListNode:\n",
    "        d1, d2 = ListNode(0), ListNode(0)\n",
    "        ptr1, ptr2 = d1, d2\n",
    "        while (head):\n",
    "            if head.val < x:\n",
    "                ptr1.next = head\n",
    "                ptr1 = ptr1.next\n",
    "            else:\n",
    "                ptr2.next = head \n",
    "                ptr2 = ptr2.next \n",
    "            head = head.next\n",
    "        ptr2.next = None  # tail 까먹지 말기!!\n",
    "        ptr1.next = d2.next \n",
    "        return d1.next \n",
    "    "
   ]
  },
  {
   "cell_type": "markdown",
   "metadata": {},
   "source": [
    "## Q5. Sum Lists\n",
    "[leetcode:2. Add Two Numbers](https://leetcode.com/problems/add-two-numbers/description/)\n",
    "\n",
    "You are given two non-empty linked lists representing two non-negative integers. The digits are stored in reverse order and each of their nodes contain a single digit. Add the two numbers and return it as a linked list.<br>\n",
    "\n",
    "You may assume the two numbers do not contain any leading zero, except the number 0 itself.<br>\n",
    "\n",
    "__Example:__<br>\n",
    "Input: (2 -> 4 -> 3) + (5 -> 6 -> 4)<br>\n",
    "Output: 7 -> 0 -> 8 <br>\n",
    "Explanation: 342 + 465 = 807.\n"
   ]
  },
  {
   "cell_type": "code",
   "execution_count": null,
   "metadata": {},
   "outputs": [],
   "source": [
    "class Solution:\n",
    "    def addTwoNumbers(self, l1: ListNode, l2: ListNode) -> ListNode:\n",
    "        d = ListNode(0)\n",
    "        ptr = d\n",
    "        tmp = 0\n",
    "        # l1, l2 둘 다 있는 자리수 \n",
    "        while (l1 and l2):\n",
    "            v = l1.val + l2.val + tmp\n",
    "            ptr.next = ListNode(v%10)\n",
    "            tmp = v//10\n",
    "            ptr = ptr.next\n",
    "            l1 = l1.next\n",
    "            l2 = l2.next \n",
    "        while (tmp == 1):\n",
    "            if l1 != None:\n",
    "                ptr.next = ListNode((l1.val + tmp)%10)\n",
    "                tmp = (l1.val + tmp)//10\n",
    "                ptr = ptr.next\n",
    "                l1 = l1.next \n",
    "            elif l2 != None:\n",
    "                ptr.next = ListNode((l2.val + tmp)%10)\n",
    "                tmp = (l2.val + tmp)//10\n",
    "                ptr = ptr.next\n",
    "                l2 = l2.next \n",
    "            else:\n",
    "                ptr.next = ListNode(1)\n",
    "                break\n",
    "        if l1 != None:\n",
    "            ptr.next = l1\n",
    "        elif l2 != None:\n",
    "            ptr.next = l2\n",
    "        return d.next"
   ]
  },
  {
   "cell_type": "markdown",
   "metadata": {},
   "source": [
    "## Q6. Palindrome\n",
    "[leetcode: 234. Palindrome Linked List] (https://leetcode.com/problems/palindrome-linked-list/description/)<br>\n",
    "Given a singly linked list, determine if it is a palindrome.<br><br>\n",
    "__Example 1:__<br>\n",
    "Input: 1->2<br>\n",
    "Output: false<br><br>\n",
    "__Example 2:__\n",
    "Input: 1->2->2->1<br>\n",
    "Output: true<br>\n",
    "Follow up:\n",
    "Could you do it in O(n) time and O(1) space?\n"
   ]
  },
  {
   "cell_type": "code",
   "execution_count": null,
   "metadata": {},
   "outputs": [],
   "source": []
  },
  {
   "cell_type": "markdown",
   "metadata": {},
   "source": [
    "## Q7. Intersection\n",
    "[leetcode: 160. Intersection of Two Linked Lists](https://leetcode.com/problems/intersection-of-two-linked-lists/description/)<br>\n",
    "Write a program to find the node at which the intersection of two singly linked lists begins."
   ]
  },
  {
   "cell_type": "code",
   "execution_count": null,
   "metadata": {},
   "outputs": [],
   "source": []
  },
  {
   "cell_type": "markdown",
   "metadata": {},
   "source": [
    "## Q8. Loop Detection\n",
    "[leetcode: 141. Linked List Cycle](https://leetcode.com/problems/linked-list-cycle/description/)\n",
    "<br>\n",
    "Given a linked list, determine if it has a cycle in it.<br>\n",
    "To represent a cycle in the given linked list, we use an integer pos which represents the position (0-indexed) in the linked list where tail connects to. If pos is -1, then there is no cycle in the linked list.\n"
   ]
  },
  {
   "cell_type": "code",
   "execution_count": null,
   "metadata": {},
   "outputs": [],
   "source": [
    "class Solution(object):\n",
    "    def hasCycle(self, head):\n",
    "        \"\"\"\n",
    "        :type head: ListNode\n",
    "        :rtype: bool\n",
    "        \"\"\"\n",
    "        if (head == None) or (head.next == None): return False\n",
    "        ptr1, ptr2 = head, head\n",
    "\n",
    "        ptr1 = ptr1.next\n",
    "        ptr2 = ptr2.next.next\n",
    "        \n",
    "        while (ptr1 != ptr2):\n",
    "            ptr1 = ptr1.next\n",
    "            ptr2 = ptr2.next.next\n",
    "        if ptr1.next == None: \n",
    "            return False\n",
    "        else:\n",
    "            return True \n",
    "        "
   ]
  },
  {
   "cell_type": "code",
   "execution_count": 16,
   "metadata": {},
   "outputs": [],
   "source": []
  },
  {
   "cell_type": "markdown",
   "metadata": {},
   "source": [
    "## review: Arrays and Strings\n",
    "[leetcode: 15. 3Sum](https://leetcode.com/problems/3sum/)<br>\n",
    "Given an array nums of n integers, are there elements a, b, c in nums such that a + b + c = 0? Find all unique triplets in the array which gives the sum of zero. <br>\n",
    "<br>\n",
    "Note:\n",
    "The solution set must not contain duplicate triplets.<br>\n",
    "<br>\n",
    "Example:<br>\n",
    "Given array nums = [-1, 0, 1, 2, -1, -4],\n",
    "\n",
    "A solution set is:\n",
    "[\n",
    "  [-1, 0, 1],\n",
    "  [-1, -1, 2]\n",
    "]"
   ]
  },
  {
   "cell_type": "code",
   "execution_count": 41,
   "metadata": {},
   "outputs": [],
   "source": [
    "from collections import defaultdict\n",
    "class Solution(object):\n",
    "    def threeSum(self, nums):\n",
    "        \"\"\"\n",
    "        :type nums: List[int]\n",
    "        :rtype: List[List[int]]\n",
    "        \"\"\"\n"
   ]
  },
  {
   "cell_type": "code",
   "execution_count": null,
   "metadata": {},
   "outputs": [],
   "source": []
  }
 ],
 "metadata": {
  "kernelspec": {
   "display_name": "Python 3",
   "language": "python",
   "name": "python3"
  },
  "language_info": {
   "codemirror_mode": {
    "name": "ipython",
    "version": 3
   },
   "file_extension": ".py",
   "mimetype": "text/x-python",
   "name": "python",
   "nbconvert_exporter": "python",
   "pygments_lexer": "ipython3",
   "version": "3.6.3"
  }
 },
 "nbformat": 4,
 "nbformat_minor": 2
}
